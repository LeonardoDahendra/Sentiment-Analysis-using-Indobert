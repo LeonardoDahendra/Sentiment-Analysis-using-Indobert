{
 "cells": [
  {
   "cell_type": "code",
   "execution_count": 17,
   "metadata": {},
   "outputs": [],
   "source": [
    "import pandas as pd\n",
    "import numpy as np\n",
    "from nltk.corpus import stopwords\n",
    "from nltk.tokenize import word_tokenize\n",
    "from keras.preprocessing.text import Tokenizer\n",
    "from keras.utils import pad_sequences, to_categorical\n",
    "from sklearn.preprocessing import LabelEncoder\n",
    "from sklearn.model_selection import train_test_split\n",
    "from sklearn.metrics import precision_score, recall_score, f1_score, accuracy_score, confusion_matrix\n",
    "from Sastrawi.Stemmer.StemmerFactory import StemmerFactory\n",
    "from sklearn.naive_bayes import MultinomialNB, GaussianNB\n",
    "from sklearn.feature_extraction.text import CountVectorizer\n",
    "tokenizer = None\n",
    "model = None\n",
    "FILEPATH = 'indo.csv'\n",
    "SLANGPATH = 'colloquial-indonesian-lexicon.csv'\n",
    "slang_dictionary = None\n",
    "sentiment_amount = 2\n",
    "sentiments = [\"positive\", \"negative\"]\n",
    "dataset = pd.DataFrame\n",
    "vectorizer = None"
   ]
  },
  {
   "cell_type": "code",
   "execution_count": 18,
   "metadata": {},
   "outputs": [],
   "source": [
    "def get_dataset():\n",
    "    dataset = pd.read_csv(FILEPATH)\n",
    "\n",
    "    for index, data in dataset.iterrows():\n",
    "        text = data['Text']\n",
    "        text = str(text).lower()\n",
    "        word_list = word_tokenize(text)\n",
    "        id_stopwords = stopwords.words('indonesian')\n",
    "        word_list = [word for word in word_list if word not in id_stopwords]\n",
    "        factory = StemmerFactory()\n",
    "        stemmer = factory.create_stemmer()\n",
    "        word_list = [stemmer.stem(word) for word in word_list]\n",
    "        text = ' '.join(word_list)\n",
    "        dataset.at[index, 'Text'] = text\n",
    "\n",
    "    dataset = dataset.sample(frac = 1)\n",
    "\n",
    "    return dataset\n",
    "\n",
    "def initialize_slang_dictionary():\n",
    "    global slang_dictionary\n",
    "    slang_dictionary = {}\n",
    "    dataset = pd.read_csv(SLANGPATH)\n",
    "    for _, data in dataset.iterrows():\n",
    "        key = data['slang']\n",
    "        value = data['formal']\n",
    "        slang_dictionary[key] = value\n",
    "\n",
    "def preprocess_data(text_list, sentiments):\n",
    "    global vectorizer\n",
    "    vectorizer = CountVectorizer(max_features=1000)\n",
    "    vec = vectorizer.fit_transform(text_list)\n",
    "\n",
    "    return vec, sentiments\n",
    "\n",
    "def initialize_tokenizer():\n",
    "    dataset = get_dataset()\n",
    "    global tokenizer\n",
    "    tokenizer = Tokenizer(num_words=4000)\n",
    "    tokenizer.fit_on_texts(dataset['Text'])\n",
    "\n",
    "def initialize_model():\n",
    "    global model\n",
    "    model = MultinomialNB()\n",
    "\n",
    "def get_word_count():\n",
    "    global tokenizer\n",
    "    if tokenizer == None:\n",
    "        initialize_tokenizer()\n",
    "    return len(tokenizer.word_index)\n",
    "\n",
    "def load_model():\n",
    "    global model\n",
    "    if model == None:\n",
    "        initialize_model()\n",
    "    model.load_weights('multinomial.keras')\n",
    "\n",
    "def predict_comment(text):\n",
    "    global model\n",
    "    global tokenizer\n",
    "    if tokenizer == None:\n",
    "        initialize_tokenizer()\n",
    "    if model == None:\n",
    "        initialize_model()\n",
    "    sequences = tokenizer.texts_to_sequences(text)\n",
    "    x = pad_sequences(sequences)\n",
    "    y_pred = model.predict(x)\n",
    "    y_pred = np.argmax(y_pred, axis=1)\n",
    "\n",
    "    for index, comment in enumerate(text):\n",
    "        print(f\"{comment}: {sentiments[y_pred[index]]}\")"
   ]
  },
  {
   "cell_type": "code",
   "execution_count": 19,
   "metadata": {},
   "outputs": [],
   "source": [
    "def train_model():\n",
    "    global dataset\n",
    "    if dataset.empty:\n",
    "        dataset = get_dataset()\n",
    "    x, y = preprocess_data(dataset['Text'], dataset['Sentiment'])\n",
    "\n",
    "    global model\n",
    "    initialize_model()\n",
    "\n",
    "    x_train, x_test, y_train, y_test = train_test_split(x, y, train_size=0.8)\n",
    "\n",
    "    model.fit(x_train, y_train)\n",
    "    \n",
    "    y_pred = model.predict(x_test)\n",
    "\n",
    "    print('Accuracy: ', accuracy_score(y_test, y_pred))\n",
    "    print('Precision:', precision_score(y_test, y_pred, average='weighted'))\n",
    "    print('Recall:', recall_score(y_test, y_pred, average='weighted'))\n",
    "    print('F1 score:', f1_score(y_test, y_pred, average='weighted'))\n",
    "    print('Confusion Matrix: \\n', confusion_matrix(y_test, y_pred))"
   ]
  },
  {
   "cell_type": "code",
   "execution_count": 20,
   "metadata": {},
   "outputs": [],
   "source": [
    "global dataset\n",
    "dataset = get_dataset()"
   ]
  },
  {
   "cell_type": "code",
   "execution_count": 21,
   "metadata": {},
   "outputs": [
    {
     "name": "stdout",
     "output_type": "stream",
     "text": [
      "Accuracy:  0.7521786492374728\n",
      "Precision: 0.7520157724209799\n",
      "Recall: 0.7521786492374728\n",
      "F1 score: 0.7520915988653188\n",
      "Confusion Matrix: \n",
      " [[807 225]\n",
      " [230 574]]\n"
     ]
    }
   ],
   "source": [
    "train_model()"
   ]
  },
  {
   "cell_type": "code",
   "execution_count": 22,
   "metadata": {},
   "outputs": [
    {
     "name": "stdout",
     "output_type": "stream",
     "text": [
      "Accuracy:  0.7766884531590414\n",
      "Precision: 0.7766126446004125\n",
      "Recall: 0.7766884531590414\n",
      "F1 score: 0.776649617549059\n",
      "Confusion Matrix: \n",
      " [[856 204]\n",
      " [206 570]]\n"
     ]
    }
   ],
   "source": [
    "global dataset\n",
    "\n",
    "dataset = pd.read_csv('indo.csv')\n",
    "vectorizer = CountVectorizer()\n",
    "\n",
    "dataset = dataset.dropna()\n",
    "x = vectorizer.fit_transform(dataset['Text'])\n",
    "le = LabelEncoder()\n",
    "y = le.fit_transform(dataset['Sentiment'])\n",
    "global model\n",
    "initialize_model()\n",
    "\n",
    "x_train, x_test, y_train, y_test = train_test_split(x, y, train_size=0.8)\n",
    "\n",
    "model.fit(x_train, y_train)\n",
    "\n",
    "y_pred = model.predict(x_test)\n",
    "\n",
    "print('Accuracy: ', accuracy_score(y_test, y_pred))\n",
    "print('Precision:', precision_score(y_test, y_pred, average='weighted'))\n",
    "print('Recall:', recall_score(y_test, y_pred, average='weighted'))\n",
    "print('F1 score:', f1_score(y_test, y_pred, average='weighted'))\n",
    "print('Confusion Matrix: \\n', confusion_matrix(y_test, y_pred))"
   ]
  }
 ],
 "metadata": {
  "kernelspec": {
   "display_name": "Python 3",
   "language": "python",
   "name": "python3"
  },
  "language_info": {
   "codemirror_mode": {
    "name": "ipython",
    "version": 3
   },
   "file_extension": ".py",
   "mimetype": "text/x-python",
   "name": "python",
   "nbconvert_exporter": "python",
   "pygments_lexer": "ipython3",
   "version": "3.11.9"
  },
  "orig_nbformat": 4
 },
 "nbformat": 4,
 "nbformat_minor": 2
}
